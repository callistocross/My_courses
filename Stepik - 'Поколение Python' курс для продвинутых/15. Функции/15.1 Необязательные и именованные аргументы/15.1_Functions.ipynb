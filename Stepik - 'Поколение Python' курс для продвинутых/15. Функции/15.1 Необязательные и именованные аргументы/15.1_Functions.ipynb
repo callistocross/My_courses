{
 "cells": [
  {
   "cell_type": "markdown",
   "metadata": {},
   "source": [
    "## Функции\n",
    "### 15.1 Необязательные и именованные аргументы"
   ]
  },
  {
   "cell_type": "markdown",
   "metadata": {},
   "source": [
    "**Задание 1.**\n",
    "Напишите функцию `matrix()`, которая создает, заполняет и возвращает матрицу заданного размера. При этом (в зависимости от переданных аргументов) она должна вести себя так:\n",
    "\n",
    "* `matrix()` — возвращает матрицу 1×1, в которой единственное число равно нулю;\n",
    "* `matrix(n)` — возвращает матрицу n×n, заполненную нулями;\n",
    "* `matrix(n, m)` — возвращает матрицу из n строк и m столбцов, заполненную нулями;\n",
    "* `matrix(n, m, value)` — возвращает матрицу из n строк и m столбцов, в которой каждый элемент равен числу value.\n",
    "При создании функции пользуйтесь аргументами по умолчанию."
   ]
  },
  {
   "cell_type": "code",
   "execution_count": 1,
   "metadata": {},
   "outputs": [
    {
     "name": "stdout",
     "output_type": "stream",
     "text": [
      "[[0]]\n",
      "[[0, 0, 0], [0, 0, 0], [0, 0, 0]]\n",
      "[[0, 0, 0, 0, 0], [0, 0, 0, 0, 0]]\n",
      "[[5, 5, 5, 5]]\n"
     ]
    }
   ],
   "source": [
    "def matrix(n=1, m=None, value=0):\n",
    "    if m == None:\n",
    "        m = n\n",
    "    l = [[value] * m ] * n\n",
    "    return l\n",
    "\n",
    "print(matrix())\n",
    "print(matrix(3))\n",
    "print(matrix(2, 5))\n",
    "print(matrix(1, 4, 5))"
   ]
  }
 ],
 "metadata": {
  "kernelspec": {
   "display_name": "Python 3",
   "language": "python",
   "name": "python3"
  },
  "language_info": {
   "codemirror_mode": {
    "name": "ipython",
    "version": 3
   },
   "file_extension": ".py",
   "mimetype": "text/x-python",
   "name": "python",
   "nbconvert_exporter": "python",
   "pygments_lexer": "ipython3",
   "version": "3.11.5"
  }
 },
 "nbformat": 4,
 "nbformat_minor": 2
}
