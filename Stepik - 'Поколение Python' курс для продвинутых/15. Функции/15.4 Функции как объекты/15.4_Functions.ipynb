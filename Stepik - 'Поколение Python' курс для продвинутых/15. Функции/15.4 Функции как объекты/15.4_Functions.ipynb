{
 "cells": [
  {
   "cell_type": "markdown",
   "metadata": {},
   "source": [
    "## Функции\n",
    "### 15.4 Функции как объекты"
   ]
  },
  {
   "cell_type": "markdown",
   "metadata": {},
   "source": [
    "**Задание 1.**\n",
    "Дан список numbers, содержащий кортежи чисел. Напишите программу, которая с помощью встроенных функций min() и max() выводит те кортежи (каждый на отдельной строке), которые имеют минимальное и максимальное среднее арифметическое значение элементов.\n"
   ]
  },
  {
   "cell_type": "code",
   "execution_count": 7,
   "metadata": {},
   "outputs": [
    {
     "name": "stdout",
     "output_type": "stream",
     "text": [
      "(-9, 8, 4)\n",
      "(81, 39)\n"
     ]
    }
   ],
   "source": [
    "numbers = [(10, 10, 10), (30, 45, 56), (81, 39), (1, 2, 3), (12,), (-2, -4, 100), (1, 2, 99), (89, 9, 34), (10, 20, 30, -2), (50, 40, 50), (34, 78, 65), (-5, 90, -1, -5), (1, 2, 3, 4, 5, 6), (-9, 8, 4), (90, 1, -45, -21)]\n",
    "def ar_mean(number):\n",
    "    return sum(number)/len(number)\n",
    "\n",
    "print(min(numbers, key=ar_mean))\n",
    "print(max(numbers, key=ar_mean))"
   ]
  },
  {
   "cell_type": "markdown",
   "metadata": {},
   "source": [
    "**Задание 2.**\n",
    "Напишите программу, которая сортирует список points координат точек плоскости в соответствии с расстоянием от начала координат (точки (0;0)). Программа должна вывести отсортированный список."
   ]
  },
  {
   "cell_type": "code",
   "execution_count": 13,
   "metadata": {},
   "outputs": [
    {
     "name": "stdout",
     "output_type": "stream",
     "text": [
      "[(0, 0), (0, 1), (-1, 1), (2, 0), (3, 0), (-1, 3), (-3, 2), (4, 3), (3, 6), (5, 6), (-9, 1), (8, 8), (12, 0)]\n"
     ]
    }
   ],
   "source": [
    "points = [(-1, 1), (5, 6), (12, 0), (4, 3), (0, 1), (-3, 2), (0, 0), (-1, 3), (2, 0), (3, 0), (-9, 1), (3, 6), (8, 8)]\n",
    "\n",
    "def dest(point):\n",
    "    return (point[0]**2 + point[1]**2)**0.5\n",
    "points.sort(key=dest)\n",
    "print(points)"
   ]
  },
  {
   "cell_type": "markdown",
   "metadata": {},
   "source": [
    "**Задание 3.**\n",
    "Дан список numbers, содержащий кортежи чисел. Напишите программу, которая сортирует и выводит список numbers в соответствии с суммой минимального и максимального элемента кортежа."
   ]
  },
  {
   "cell_type": "code",
   "execution_count": 17,
   "metadata": {},
   "outputs": [
    {
     "name": "stdout",
     "output_type": "stream",
     "text": [
      "[(1, 2, 3), (10, 10, 10), (10, 20, 30), (12, 45, 67), (-5, 90, -1), (30, 45, 56), (50, 40, 50), (-2, -4, 100), (1, 2, 99), (34, 78, 65), (81, 80, 39), (89, 90, 34)]\n"
     ]
    }
   ],
   "source": [
    "numbers = [(10, 10, 10), (30, 45, 56), (81, 80, 39), (1, 2, 3), (12, 45, 67), (-2, -4, 100), (1, 2, 99), (89, 90, 34), (10, 20, 30), (50, 40, 50), (34, 78, 65), (-5, 90, -1)]\n",
    "\n",
    "def sum_min_max(number):\n",
    "    return min(number) + max(number)\n",
    "numbers.sort(key=sum_min_max)\n",
    "print(numbers)"
   ]
  },
  {
   "cell_type": "markdown",
   "metadata": {},
   "source": [
    "**Задание 4.**\n",
    "Список athletes содержит сведения о спортсменах в виде кортежей: (имя, возраст, рост, вес).\n",
    "Напишите программу сортировки списка спортсменов по указанному полю:\n",
    "* 1: по имени;\n",
    "* 2: по возрасту;\n",
    "* 3: по росту;\n",
    "* 4: по весу.\n",
    "\n",
    "Решите задачу без использования условного оператора."
   ]
  },
  {
   "cell_type": "code",
   "execution_count": null,
   "metadata": {},
   "outputs": [
    {
     "name": "stdout",
     "output_type": "stream",
     "text": [
      "Рустам 10 128 30\n",
      "Дима 10 130 35\n",
      "Тимур 11 135 39\n",
      "Руслан 9 140 33\n",
      "Матвей 17 168 68\n",
      "Амир 16 170 70\n",
      "Рома 16 188 100\n",
      "Петя 15 190 90\n"
     ]
    }
   ],
   "source": [
    "athletes = [('Дима', 10, 130, 35), ('Тимур', 11, 135, 39), ('Руслан', 9, 140, 33), ('Рустам', 10, 128, 30), ('Амир', 16, 170, 70), ('Рома', 16, 188, 100), ('Матвей', 17, 168, 68), ('Петя', 15, 190, 90)]\n",
    "def by_name(athlete):\n",
    "    return athlete[0]\n",
    "def by_age(athlete):\n",
    "    return athlete[1]\n",
    "def by_height(athlete):\n",
    "    return athlete[2]\n",
    "def by_weight(athlete):\n",
    "    return athlete[3]\n",
    "param = {1: sorted(athletes, key=by_name),\n",
    "         2: sorted(athletes, key=by_age),\n",
    "         3: sorted(athletes, key=by_height),\n",
    "         4: sorted(athletes, key=by_weight),}\n",
    "p = int(input())\n",
    "for i in param[p]:\n",
    "    print(*i)"
   ]
  },
  {
   "cell_type": "markdown",
   "metadata": {},
   "source": [
    "**Задание 5.**\n",
    "Напишите программу, которая принимает число и название функции, а выводит результат применения функции к данному числу.\n",
    "\n",
    "Список возможных функций:\n",
    "\n",
    "* квадрат: функция принимает число и возвращает его квадрат;\n",
    "* куб: функция принимает число и возвращает его куб;\n",
    "* корень: функция принимает число и возвращает корень квадратный из этого числа;\n",
    "* модуль: функция принимает число и возвращает его модуль;\n",
    "* синус: функция принимает число (в радианах) и возвращает синус этого числа."
   ]
  },
  {
   "cell_type": "code",
   "execution_count": 56,
   "metadata": {},
   "outputs": [
    {
     "name": "stdout",
     "output_type": "stream",
     "text": [
      "64\n"
     ]
    }
   ],
   "source": [
    "from math import sin\n",
    "x = int(input())\n",
    "function_name = input()\n",
    "def square(x):\n",
    "    return x**2\n",
    "def cube(x):\n",
    "    return x**3\n",
    "def root(x):\n",
    "    return x**0.5\n",
    "\n",
    "commands = {'квадрат': square,\n",
    "            'куб': cube,\n",
    "            'корень': root,\n",
    "            'модуль': abs,\n",
    "            'синус': sin}\n",
    "print(commands[function_name](x))"
   ]
  },
  {
   "cell_type": "markdown",
   "metadata": {},
   "source": [
    "**Задание 6.**\n",
    "На вход программе подается строка натуральных чисел. Из элементов строки формируется список чисел.\n",
    "\n",
    "Напишите программу сортировки списка чисел в порядке неубывания суммы их цифр. При этом, если два числа имеют одинаковую сумму цифр, следует сохранить их взаиморасположение в начальном списке."
   ]
  },
  {
   "cell_type": "code",
   "execution_count": 95,
   "metadata": {},
   "outputs": [
    {
     "name": "stdout",
     "output_type": "stream",
     "text": [
      "12 111 4 14 123 7 45 90 79\n"
     ]
    }
   ],
   "source": [
    "s = '12 14 79 7 4 123 45 90 111'\n",
    "l = [int(i) for i in s.split()]\n",
    "def comparator(elem):\n",
    "    return sum([int(i) for i in str(elem)])\n",
    "l.sort(key=comparator)\n",
    "print(*l)"
   ]
  },
  {
   "cell_type": "markdown",
   "metadata": {},
   "source": [
    "**Задание 7.**\n",
    "На вход программе подается строка натуральных чисел. Из элементов строки формируется список чисел.\n",
    "\n",
    "Напишите программу сортировки списка чисел в порядке неубывания суммы их цифр. При этом, если у двух чисел одинаковая сумма цифр, их следует вывести в порядке неубывания."
   ]
  },
  {
   "cell_type": "code",
   "execution_count": 102,
   "metadata": {},
   "outputs": [
    {
     "name": "stdout",
     "output_type": "stream",
     "text": [
      "10 11 20 12 21 13 22 14 23 15 16 17 18 19\n"
     ]
    }
   ],
   "source": [
    "s = '19 20 21 22 23 10 11 12 13 14 15 16 17 18'\n",
    "l = [int(i) for i in s.split()]\n",
    "# возвращаем сумму цифр числа и само число\n",
    "# в key - если совпадут суммы, будут сравниваться сами числа\n",
    "def comparator(elem):\n",
    "    return sum([int(i) for i in str(elem)]), elem\n",
    "\n",
    "l.sort(key=comparator)\n",
    "print(*l)"
   ]
  }
 ],
 "metadata": {
  "kernelspec": {
   "display_name": "Python 3",
   "language": "python",
   "name": "python3"
  },
  "language_info": {
   "codemirror_mode": {
    "name": "ipython",
    "version": 3
   },
   "file_extension": ".py",
   "mimetype": "text/x-python",
   "name": "python",
   "nbconvert_exporter": "python",
   "pygments_lexer": "ipython3",
   "version": "3.11.5"
  }
 },
 "nbformat": 4,
 "nbformat_minor": 2
}
