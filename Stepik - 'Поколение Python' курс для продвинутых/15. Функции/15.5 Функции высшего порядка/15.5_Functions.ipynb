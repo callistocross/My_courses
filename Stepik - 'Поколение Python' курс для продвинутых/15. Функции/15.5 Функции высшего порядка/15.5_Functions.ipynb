{
 "cells": [
  {
   "cell_type": "markdown",
   "metadata": {},
   "source": [
    "## Функции\n",
    "### 15.5 Функции высшего порядка"
   ]
  },
  {
   "cell_type": "markdown",
   "metadata": {},
   "source": [
    "**Задание 1.** Напишите программу, которая с помощью функции map() округляет все элементы списка numbers до 2 десятичных знаков, а затем выводит их, каждый на отдельной строке.\n"
   ]
  },
  {
   "cell_type": "code",
   "execution_count": 5,
   "metadata": {},
   "outputs": [
    {
     "name": "stdout",
     "output_type": "stream",
     "text": [
      "3.57\n",
      "5.58\n",
      "4.01\n",
      "56.24\n",
      "9.01\n",
      "32.12\n",
      "23.22\n",
      "90.1\n",
      "45.45\n",
      "314.15\n",
      "2.72\n",
      "1.42\n"
     ]
    }
   ],
   "source": [
    "def map(function, items):\n",
    "    result = []\n",
    "    for item in items:\n",
    "        result.append(function(item))\n",
    "    return result\n",
    "\n",
    "def round_numb(x):\n",
    "    return round(x, 2)\n",
    "\n",
    "numbers = [3.56773, 5.57668, 4.00914, 56.24241, 9.01344, 32.12013, 23.22222, 90.09873, 45.45, 314.1528, 2.71828, 1.41546]\n",
    "print(*map(round_numb, numbers), sep = '\\n')"
   ]
  },
  {
   "cell_type": "markdown",
   "metadata": {},
   "source": [
    "**Задание 2.**\n",
    "Напишите программу, которая с помощью функций filter() и map() отбирает из заданного списка numbers трёхзначные числа, дающие при делении на \n",
    "5 остаток 2, и выводит их кубы, каждый в отдельной строке.\n",
    "\n",
    "Примечание. Остаток 2 при делении на 5 должно давать само число, а не его куб."
   ]
  },
  {
   "cell_type": "code",
   "execution_count": null,
   "metadata": {},
   "outputs": [
    {
     "name": "stdout",
     "output_type": "stream",
     "text": [
      "283593393\n",
      "758550528\n",
      "154854153\n",
      "8869743\n",
      "16974593\n",
      "12487168\n",
      "6028568\n",
      "849278123\n",
      "2863288\n",
      "57960603\n",
      "575930368\n"
     ]
    }
   ],
   "source": [
    "def map(function, items):\n",
    "    result = []\n",
    "    for item in items:\n",
    "        result.append(function(item))\n",
    "    return result\n",
    "\n",
    "def filter(function, items):\n",
    "    result = []\n",
    "    for item in items:\n",
    "        if function(item):\n",
    "            result.append(item)\n",
    "    return result\n",
    "\n",
    "def is_greater99(x):\n",
    "    if 99 < x < 1000 and x % 5 == 2: \n",
    "        return x\n",
    "\n",
    "def cube(x):\n",
    "    return x**3\n",
    "\n",
    "numbers = [1014, 1321, 675, 1215, 56, 1386, 1385, 431, 1058, 486, 1434, 696, 1016, 1084, 424, 1189, 475, 95, 1434, 1462, 815, 776, 657, 1225, 912, 537, 1478, 1176, 544, 488, 668, 944, 207, 266, 1309, 1027, 257, 1374, 1289, 1155, 230, 866, 708, 144, 1434, 1163, 345, 394, 560, 338, 232, 182, 1438, 1127, 928, 1309, 98, 530, 1013, 898, 669, 105, 130, 1363, 947, 72, 1278, 166, 904, 349, 831, 1207, 1496, 370, 725, 926, 175, 959, 1282, 336, 1268, 351, 1439, 186, 273, 1008, 231, 138, 142, 433, 456, 1268, 1018, 1274, 387, 120, 340, 963, 832, 1127]\n",
    "print(*map(cube, filter(is_greater99, numbers)), sep = '\\n')\n"
   ]
  },
  {
   "cell_type": "markdown",
   "metadata": {},
   "source": [
    "**Задание 3.**\n",
    "Напишите программу для вычисления и вывода суммы квадратов элементов списка numbers.\n",
    "Примечание. Попробуйте решить задачу двумя способами: с помощью функции reduce(), и с помощью функций map() и sum()."
   ]
  },
  {
   "cell_type": "code",
   "execution_count": null,
   "metadata": {},
   "outputs": [
    {
     "name": "stdout",
     "output_type": "stream",
     "text": [
      "319563\n",
      "319563\n"
     ]
    }
   ],
   "source": [
    "def reduce(operation, items, initial_value):\n",
    "    acc = initial_value\n",
    "    for item in items:\n",
    "        acc = operation(acc, item)\n",
    "    return acc\n",
    "\n",
    "def map(function, items):\n",
    "    result = []\n",
    "    for item in items:\n",
    "        result.append(function(item))\n",
    "    return result\n",
    "\n",
    "def sum_of_squares(x, y):\n",
    "    return x + y**2\n",
    "\n",
    "def square(x):\n",
    "    return x**2\n",
    "\n",
    "numbers = [97, 42, 9, 32, 3, 45, 31, 77, -1, 11, -2, 75, 5, 51, 34, 28, 46, 1, -8, 84, 16, 51, 90, 56, 65, 90, 23, 35, 11, -10, 70, 90, 90, 12, 96, 58, -8, -4, 91, 76, 94, 60, 72, 43, 4, -6, -5, 51, 58, 60, 30, 38, 67, 62, 36, 72, 34, 82, 62, -1, 60, 82, 87, 81, -7, 57, 26, 36, 17, 43, 80, 40, 75, 94, 91, 64, 38, 72, 29, 84, 38, 35, 7, 54, 31, 95, 78, 27, 82, 1, 64, 94, 31, 29, -8, 98, 24, 61, 7, 73]\n",
    "print(reduce(sum_of_squares, numbers, 0))\n",
    "print(sum(map(square, numbers)))"
   ]
  },
  {
   "cell_type": "markdown",
   "metadata": {},
   "source": [
    "**Задание 4.**\n",
    "Напишите программу для вычисления и вывода суммы квадратов двузначных чисел из списка numbers, которые делятся на 7 без остатка.\n",
    "Примечание 1. При решении задачи используйте функции filter(), map() и sum().\n",
    "Примечание 2. На 7 должно делиться исходное двузначное число, а не его квадрат.\n",
    "Примечание 3. Не забывайте про отрицательные двузначные числа."
   ]
  },
  {
   "cell_type": "code",
   "execution_count": 18,
   "metadata": {},
   "outputs": [
    {
     "name": "stdout",
     "output_type": "stream",
     "text": [
      "25137\n"
     ]
    }
   ],
   "source": [
    "def map(function, items):\n",
    "    result = []\n",
    "    for item in items:\n",
    "        result.append(function(item))\n",
    "    return result\n",
    "\n",
    "\n",
    "def filter(function, items):\n",
    "    result = []\n",
    "    for item in items:\n",
    "        if function(item):\n",
    "            result.append(item)\n",
    "    return result\n",
    "\n",
    "def div_by7(x):\n",
    "    if (9 < x < 100 or -100 < x < -9) and x % 7 == 0:\n",
    "        return x\n",
    "    \n",
    "def square(x):\n",
    "    return x**2\n",
    "\n",
    "numbers = [77, 293, 28, 242, 213, 285, 71, 286, 144, 276, 61, 298, 280, 214, 156, 227, 228, 51, -4, 202, 58, 99, 270, 219, 94, 253, 53, 235, 9, 158, 49, 183, 166, 205, 183, 266, 180, 6, 279, 200, 208, 231, 178, 201, 260, -35, 152, 115, 79, 284, 181, 92, 286, 98, 271, 259, 258, 196, -8, 43, 2, 128, 143, 43, 297, 229, 60, 254, -9, 5, 187, 220, -8, 111, 285, 5, 263, 187, 192, -9, 268, -9, 23, 71, 135, 7, -161, 65, 135, 29, 148, 242, 33, 35, 211, 5, 161, 46, 159, 23, 169, 23, 172, 184, -7, 228, 129, 274, 73, 197, 272, 54, 278, 26, 280, 13, 171, 2, 79, -2, 183, 10, 236, 276, 4, 29, -10, 41, 269, 94, 279, 129, 39, 92, -63, 263, 219, 57, 18, 236, 291, 234, 10, 250, 0, 64, 172, 216, 30, 15, 229, 205, 123, -105]\n",
    "print(sum(map(square, filter(div_by7, numbers))))"
   ]
  },
  {
   "cell_type": "markdown",
   "metadata": {},
   "source": [
    "**Задание 5.**\n",
    "Напишите функцию func_apply(), принимающую на вход функцию и список значений и возвращающую список, в котором каждое значение будет результатом применения переданной функции к переданному списку."
   ]
  },
  {
   "cell_type": "code",
   "execution_count": null,
   "metadata": {},
   "outputs": [
    {
     "name": "stdout",
     "output_type": "stream",
     "text": [
      "[7, 14, 21, 28, 35, 42]\n",
      "[4, 5, 6, 7, 8, 9]\n",
      "['1', '2', '3', '4', '5', '6']\n"
     ]
    }
   ],
   "source": [
    "def add3(x):\n",
    "    return x + 3\n",
    "\n",
    "def mul7(x):\n",
    "    return x * 7\n",
    "\n",
    "def func_apply(function, items):\n",
    "    result = []\n",
    "    for item in items:\n",
    "        result.append(function(item))\n",
    "    return result\n",
    "\n",
    "print(func_apply(mul7, [1, 2, 3, 4, 5, 6]))\n",
    "print(func_apply(add3, [1, 2, 3, 4, 5, 6]))\n",
    "print(func_apply(str, [1, 2, 3, 4, 5, 6]))"
   ]
  }
 ],
 "metadata": {
  "kernelspec": {
   "display_name": "Python 3",
   "language": "python",
   "name": "python3"
  },
  "language_info": {
   "codemirror_mode": {
    "name": "ipython",
    "version": 3
   },
   "file_extension": ".py",
   "mimetype": "text/x-python",
   "name": "python",
   "nbconvert_exporter": "python",
   "pygments_lexer": "ipython3",
   "version": "3.11.5"
  }
 },
 "nbformat": 4,
 "nbformat_minor": 2
}
