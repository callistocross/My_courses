{
 "cells": [
  {
   "cell_type": "markdown",
   "metadata": {},
   "source": [
    "## Функции\n",
    "### 15.7 Анонимные функции. Часть 1"
   ]
  },
  {
   "cell_type": "markdown",
   "metadata": {},
   "source": [
    "**Задание 1.** \n",
    "Требовалось написать программу, которая:\n",
    "\n",
    "- преобразует список floats в список чисел, возведенных в квадрат и округленных с точностью до одного десятичного знака;\n",
    "- фильтрует список words  и оставляет только палиндромы длиной более 4 символов;\n",
    "- находит произведение чисел из списка numbers.\n",
    "\n",
    "Программист торопился и написал программу неправильно. Доработайте его программу."
   ]
  },
  {
   "cell_type": "code",
   "execution_count": 22,
   "metadata": {},
   "outputs": [
    {
     "name": "stdout",
     "output_type": "stream",
     "text": [
      "[18.9, 37.1, 10.6, 95.5, 4.7, 78.9, 21.1, 1171.7, 146.9, 21.8, 6.0, 86.9]\n",
      "['racecar', 'civic', 'TATTARRATTAT', 'malayalam']\n",
      "24840\n"
     ]
    }
   ],
   "source": [
    "from functools import reduce \n",
    "\n",
    "floats = [4.35, 6.09, 3.25, 9.77, 2.16, 8.88, 4.59, 34.23, 12.12, 4.67, 2.45, 9.32]\n",
    "words = ['racecar', 'akinremi', 'deed', 'temidayo', 'omoseun', 'civic', 'TATTARRATTAT', 'malayalam', 'nun']\n",
    "numbers = [4, 6, 9, 23, 5]\n",
    "\n",
    "# Исправьте этот код\n",
    "map_result = list(map(lambda num: round(num**2, 1), floats))\n",
    "filter_result = list(filter(lambda name: len(name) > 4 and name == name[::-1], words))\n",
    "reduce_result = reduce(lambda num1, num2: num1 * num2, numbers, 1)\n",
    "\n",
    "print(map_result)\n",
    "print(filter_result)\n",
    "print(reduce_result)"
   ]
  },
  {
   "cell_type": "markdown",
   "metadata": {},
   "source": [
    "**Задание 2.**\n",
    "Напишите программу, которая с помощью встроенных функций filter(), map(), sorted() и reduce() выводит в алфавитном порядке список primary городов с населением более 10000000 человек, в формате:\n",
    "\n",
    "Cities: Beijing, Buenos Aires, ..."
   ]
  },
  {
   "cell_type": "code",
   "execution_count": 69,
   "metadata": {},
   "outputs": [
    {
     "name": "stdout",
     "output_type": "stream",
     "text": [
      "Cities: Beijing, Buenos Aires, Cairo, Dhaka, Manila, Mexico City, Moscow, Tokyo\n"
     ]
    }
   ],
   "source": [
    "from functools import reduce\n",
    "\n",
    "data = [['Tokyo', 35676000, 'primary'],\n",
    "        ['New York', 19354922, 'nan'],\n",
    "        ['Mexico City', 19028000, 'primary'],\n",
    "        ['Mumbai', 18978000, 'admin'],\n",
    "        ['Sao Paulo', 18845000, 'admin'],\n",
    "        ['Delhi', 15926000, 'admin'],\n",
    "        ['Shanghai', 14987000, 'admin'],\n",
    "        ['Kolkata', 14787000, 'admin'],\n",
    "        ['Los Angeles', 12815475, 'nan'],\n",
    "        ['Dhaka', 12797394, 'primary'],\n",
    "        ['Buenos Aires', 12795000, 'primary'],\n",
    "        ['Karachi', 12130000, 'admin'],\n",
    "        ['Cairo', 11893000, 'primary'],\n",
    "        ['Rio de Janeiro', 11748000, 'admin'],\n",
    "        ['Osaka', 11294000, 'admin'],\n",
    "        ['Beijing', 11106000, 'primary'],\n",
    "        ['Manila', 11100000, 'primary'],\n",
    "        ['Moscow', 10452000, 'primary'],\n",
    "        ['Istanbul', 10061000, 'admin'],\n",
    "        ['Paris', 9904000, 'primary']]\n",
    "pr10 = list(filter(lambda x: x[2] == 'primary' and x[1] > 10000000, data))\n",
    "cities = sorted(list(map(lambda x: x[0], pr10)))\n",
    "result = 'Cities: ' + reduce(lambda city1, city2: f'{city1}, {city2}', cities)\n",
    "\n",
    "print(result)"
   ]
  }
 ],
 "metadata": {
  "kernelspec": {
   "display_name": "Python 3",
   "language": "python",
   "name": "python3"
  },
  "language_info": {
   "codemirror_mode": {
    "name": "ipython",
    "version": 3
   },
   "file_extension": ".py",
   "mimetype": "text/x-python",
   "name": "python",
   "nbconvert_exporter": "python",
   "pygments_lexer": "ipython3",
   "version": "3.11.5"
  }
 },
 "nbformat": 4,
 "nbformat_minor": 2
}
