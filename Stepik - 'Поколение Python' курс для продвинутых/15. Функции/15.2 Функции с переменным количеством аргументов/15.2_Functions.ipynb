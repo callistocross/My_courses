{
 "cells": [
  {
   "cell_type": "markdown",
   "metadata": {},
   "source": [
    "## Функции\n",
    "### 15.2 Функции с переменным количеством аргументов"
   ]
  },
  {
   "cell_type": "markdown",
   "metadata": {},
   "source": [
    "**Задание 1.**\n",
    "Напишите функцию count_args(), которая принимает произвольное количество аргументов и возвращает количество переданных в нее аргументов.\n"
   ]
  },
  {
   "cell_type": "code",
   "execution_count": 12,
   "metadata": {},
   "outputs": [
    {
     "name": "stdout",
     "output_type": "stream",
     "text": [
      "5\n"
     ]
    }
   ],
   "source": [
    "def count_args(*args):\n",
    "    return len(args)\n",
    "print(count_args([], (''), 'a', 12, False))"
   ]
  },
  {
   "cell_type": "markdown",
   "metadata": {},
   "source": [
    "**Задание 2.**\n",
    "Напишите функцию sq_sum(), которая принимает произвольное количество числовых аргументов и возвращает сумму их квадратов."
   ]
  },
  {
   "cell_type": "code",
   "execution_count": 29,
   "metadata": {},
   "outputs": [
    {
     "name": "stdout",
     "output_type": "stream",
     "text": [
      "385\n"
     ]
    }
   ],
   "source": [
    "def sq_sum(*args):\n",
    "    summa = 0\n",
    "    for i in args:\n",
    "        summa += i**2\n",
    "    return summa\n",
    "print(sq_sum(1, 2, 3, 4, 5, 6, 7, 8, 9, 10))"
   ]
  },
  {
   "cell_type": "markdown",
   "metadata": {},
   "source": [
    "**Задание 3.**\n",
    "Напишите функцию mean(), которая принимает произвольное количество аргументов и возвращает среднее арифметическое переданных в нее числовых (int или float) аргументов."
   ]
  },
  {
   "cell_type": "code",
   "execution_count": 111,
   "metadata": {},
   "outputs": [
    {
     "name": "stdout",
     "output_type": "stream",
     "text": [
      "0.0\n"
     ]
    }
   ],
   "source": [
    "def mean(*args):\n",
    "    l = []\n",
    "    for i in args:\n",
    "        if type(i) in (int, float):\n",
    "                l.append(i)\n",
    "    if len(l) == 0:\n",
    "        return 0.0\n",
    "    else:\n",
    "        return sum(l) / len(l)\n",
    "print(mean(True, ['stepik'], 'beegeek',  (1, 2)))"
   ]
  },
  {
   "cell_type": "markdown",
   "metadata": {},
   "source": [
    "**Задание 4.**\n",
    "Напишите функцию greet(), которая принимает произвольное количество аргументов строк имен (как минимум одно) и возвращает приветствие в соответствии с образцом.\n",
    "Функция greet() должна принимать как минимум один обязательный аргумент!"
   ]
  },
  {
   "cell_type": "code",
   "execution_count": 105,
   "metadata": {},
   "outputs": [
    {
     "name": "stdout",
     "output_type": "stream",
     "text": [
      "Hello, Timur and Roman and Ruslan!\n"
     ]
    }
   ],
   "source": [
    "def greet(name, *args):\n",
    "    return f\"Hello, {' and '.join((name,) + args)}!\"\n",
    "print(greet('Timur', 'Roman', 'Ruslan'))"
   ]
  },
  {
   "cell_type": "markdown",
   "metadata": {},
   "source": [
    "**Задание 5.**\n",
    "Напишите функцию print_products(), которая принимает произвольное количество аргументов и выводит список продуктов (любая непустая строка) по образцу: \n",
    "\n",
    "`<номер продукта>) <название продукта>` (нумерация продуктов начинается с единицы). \n",
    "\n",
    "Если среди переданных аргументов нет ни одного продукта, необходимо вывести текст `Нет продуктов`. Обратите внимание: функция print_products() должна выводить (печатать) нужное значение, а не возвращать его."
   ]
  },
  {
   "cell_type": "code",
   "execution_count": 129,
   "metadata": {},
   "outputs": [
    {
     "name": "stdout",
     "output_type": "stream",
     "text": [
      "1) Бананы\n",
      "2) Яблоки\n",
      "3) Макароны\n"
     ]
    }
   ],
   "source": [
    "def print_products(*args):\n",
    "    l = [i for i in args if type(i) is str and len(i) > 0]\n",
    "    if len(l) > 0:\n",
    "        num = 1\n",
    "        for p in l:\n",
    "            print(f'{num}) {p}')\n",
    "            num += 1\n",
    "    else:\n",
    "        print('Нет продуктов')\n",
    "            \n",
    "print_products('Бананы', [1, 2], ('Stepik',), 'Яблоки', '', 'Макароны', 5, True)"
   ]
  },
  {
   "cell_type": "markdown",
   "metadata": {},
   "source": [
    "**Задание 6.**\n",
    "Напишите функцию info_kwargs(), которая принимает произвольное количество именованных аргументов и печатает именованные аргументы в соответствии с образцом: <имя аргумента>: <значение аргумента>, при этом имена аргументов следуют в алфавитном порядке (по возрастанию)."
   ]
  },
  {
   "cell_type": "code",
   "execution_count": 142,
   "metadata": {},
   "outputs": [
    {
     "name": "stdout",
     "output_type": "stream",
     "text": [
      "age: 28\n",
      "first_name: Timur\n",
      "job: teacher\n",
      "last_name: Guev\n"
     ]
    }
   ],
   "source": [
    "def info_kwargs(**kwargs):\n",
    "    for i in sorted(kwargs):\n",
    "        print(f'{i}: {kwargs[i]}')\n",
    "     \n",
    "info_kwargs(first_name='Timur', last_name='Guev', age=28, job='teacher') "
   ]
  }
 ],
 "metadata": {
  "kernelspec": {
   "display_name": "Python 3",
   "language": "python",
   "name": "python3"
  },
  "language_info": {
   "codemirror_mode": {
    "name": "ipython",
    "version": 3
   },
   "file_extension": ".py",
   "mimetype": "text/x-python",
   "name": "python",
   "nbconvert_exporter": "python",
   "pygments_lexer": "ipython3",
   "version": "3.11.5"
  }
 },
 "nbformat": 4,
 "nbformat_minor": 2
}
