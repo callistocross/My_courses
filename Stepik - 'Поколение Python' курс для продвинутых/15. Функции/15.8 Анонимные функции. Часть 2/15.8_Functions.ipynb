{
 "cells": [
  {
   "cell_type": "markdown",
   "metadata": {},
   "source": [
    "## Функции\n",
    "### 15.8 Анонимные функции. Часть 2"
   ]
  },
  {
   "cell_type": "markdown",
   "metadata": {},
   "source": [
    "**Задание 1.** \n",
    "Напишите функцию func, используя синтаксис анонимных функций, которая принимает целочисленный аргумент и возвращает значение True, если он делится без остатка на 19 или на 13 и False в противном случае."
   ]
  },
  {
   "cell_type": "code",
   "execution_count": 2,
   "metadata": {},
   "outputs": [
    {
     "name": "stdout",
     "output_type": "stream",
     "text": [
      "True\n",
      "True\n",
      "False\n",
      "False\n",
      "True\n"
     ]
    }
   ],
   "source": [
    "func = lambda x: True if x % 19 == 0 or x % 13 == 0 else False\n",
    "print(func(19))\n",
    "print(func(13))\n",
    "print(func(20))\n",
    "print(func(15))\n",
    "print(func(247))"
   ]
  },
  {
   "cell_type": "markdown",
   "metadata": {},
   "source": [
    "**Задание 2.**\n",
    "Напишите функцию func, используя синтаксис анонимных функций, которая принимает строковый аргумент и возвращает значение True, если переданный аргумент начинается и заканчивается на английскую букву a (регистр буквы неважен) и False в противном случае.\n"
   ]
  },
  {
   "cell_type": "code",
   "execution_count": 7,
   "metadata": {},
   "outputs": [
    {
     "name": "stdout",
     "output_type": "stream",
     "text": [
      "False\n",
      "False\n",
      "True\n",
      "False\n",
      "False\n",
      "True\n"
     ]
    }
   ],
   "source": [
    "func = lambda x: True if x[0].lower() == 'a' and x[-1].lower() == 'a' else False\n",
    "print(func('abcd'))\n",
    "print(func('bcda'))\n",
    "print(func('abcda'))\n",
    "print(func('Abcd'))\n",
    "print(func('bcdA'))\n",
    "print(func('abcdA'))\n"
   ]
  },
  {
   "cell_type": "markdown",
   "metadata": {},
   "source": [
    "**Задание 3.**\n",
    "Напишите функцию is_non_negative_num, используя синтаксис анонимных функций, которая принимает строковый аргумент и возвращает значение True, если переданный аргумент является неотрицательным числом (целым или вещественным), или False в противном случае."
   ]
  },
  {
   "cell_type": "code",
   "execution_count": 20,
   "metadata": {},
   "outputs": [
    {
     "name": "stdout",
     "output_type": "stream",
     "text": [
      "False\n",
      "True\n",
      "False\n",
      "False\n",
      "True\n",
      "False\n",
      "False\n",
      "True\n"
     ]
    }
   ],
   "source": [
    "is_non_negative_num = lambda x: True if x.replace('.', '', 1).isdigit() else False\n",
    "print(is_non_negative_num('10.34ab'))\n",
    "print(is_non_negative_num('10.45'))\n",
    "print(is_non_negative_num('-18'))\n",
    "print(is_non_negative_num('-34.67'))\n",
    "print(is_non_negative_num('987'))\n",
    "print(is_non_negative_num('abcd'))\n",
    "print(is_non_negative_num('123.122.12'))\n",
    "print(is_non_negative_num('123.122'))"
   ]
  },
  {
   "cell_type": "markdown",
   "metadata": {},
   "source": [
    "**Задание 4.**\n",
    "Напишите функцию is_num(), используя синтаксис анонимных функций, которая принимает строковый аргумент и возвращает значение True, если переданный аргумент является числом (целым или вещественным), или False в противном случае."
   ]
  },
  {
   "cell_type": "code",
   "execution_count": 33,
   "metadata": {},
   "outputs": [
    {
     "name": "stdout",
     "output_type": "stream",
     "text": [
      "False\n",
      "True\n",
      "True\n",
      "True\n",
      "True\n",
      "False\n",
      "False\n",
      "True\n",
      "False\n"
     ]
    }
   ],
   "source": [
    "is_num = lambda x: True if '-' not in x[1:] and x.replace('.', '', 1).replace('-', '', 1).isdigit() else False\n",
    "\n",
    "print(is_num('10.34ab'))\n",
    "print(is_num('10.45'))\n",
    "print(is_num('-18'))\n",
    "print(is_num('-34.67'))\n",
    "print(is_num('987'))\n",
    "print(is_num('abcd'))\n",
    "print(is_num('123.122.12'))\n",
    "print(is_num('-123.122'))\n",
    "print(is_num('--13.2'))"
   ]
  },
  {
   "cell_type": "markdown",
   "metadata": {},
   "source": [
    "**Задание 5.**\n",
    "Напишите программу, которая с помощью встроенных функций filter() и sorted() выводит слова из списка words, имеющие длину ровно \n",
    "6 символов. Слова следует вывести в алфавитном порядке на одной строке, разделив символом пробела."
   ]
  },
  {
   "cell_type": "code",
   "execution_count": null,
   "metadata": {},
   "outputs": [
    {
     "name": "stdout",
     "output_type": "stream",
     "text": [
      "abduct aboard abound abroad abrupt absent absorb accept access beside bestow betray beware beyond friday monday sunday\n"
     ]
    }
   ],
   "source": [
    "words = ['beverage', 'monday', 'abroad', 'bias', 'abuse', 'abolish', 'abuse', 'abuse', 'bid', 'wednesday', 'able', 'betray', 'accident', 'abduct', 'bigot', 'bet', 'abandon', 'besides', 'access', 'friday', 'bestow', 'abound', 'absent', 'beware', 'abundant', 'abnormal', 'aboard', 'about', 'accelerate', 'abort', 'thursday', 'tuesday', 'sunday', 'berth', 'beyond', 'benevolent', 'abate', 'abide', 'bicycle', 'beside', 'accept', 'berry', 'bewilder', 'abrupt', 'saturday', 'accessory', 'absorb']\n",
    "result = list(filter(lambda x: len(x) == 6, words))\n",
    "print(*sorted(result))"
   ]
  },
  {
   "cell_type": "markdown",
   "metadata": {},
   "source": [
    "**Задание 6.**\n",
    "Напишите программу, которая с помощью встроенных функций map() и filter() пошагово: \n",
    "\n",
    "1) Удаляет из списка numbers все нечетные элементы, бо́льшие 47;\n",
    "\n",
    "2) Делит все четные элементы нацело на 2 (целочисленное деление – //).\n",
    "\n",
    "Полученные числа следует вывести на одной строке, разделив символом пробела и сохранив исходный порядок."
   ]
  },
  {
   "cell_type": "code",
   "execution_count": 53,
   "metadata": {},
   "outputs": [
    {
     "name": "stdout",
     "output_type": "stream",
     "text": [
      "23 17 17 28 13 1 3 41 37 40 27 47 17 50 18 33 33 41 40 40 20 17 16 8 5 8 20 18 4 19 4 33 21 36 16 41 35 32 39 27 43 35 24 17 19 20 45 28 40 45 27 13 3 2 23 26 39 37 15 33 29 44 47 37 22 1 19 18 16 5 33 30 47 4 18 47 23 33\n"
     ]
    }
   ],
   "source": [
    "numbers = [46, 61, 34, 17, 56, 26, 93, 1, 3, 82, 71, 37, 80, 27, 77, 94, 34, 100, 36, 81, 33, 81, 66, 83, 41, 80, 80, 93, 40, 34, 32, 16, 5, 16, 40, 93, 36, 65, 8, 19, 8, 75, 66, 21, 72, 32, 41, 59, 35, 64, 49, 78, 83, 27, 57, 53, 43, 35, 48, 17, 19, 40, 90, 57, 77, 56, 80, 95, 90, 27, 26, 6, 4, 23, 52, 39, 63, 74, 15, 66, 29, 88, 94, 37, 44, 2, 38, 36, 32, 49, 5, 33, 60, 94, 89, 8, 36, 94, 46, 33]\n",
    "elem47 = list(filter(lambda x: x % 2 == 0 or (x % 2 and x <= 47), numbers))\n",
    "print(*list(map(lambda num: num//2 if num % 2 == 0 else num, elem47)))"
   ]
  },
  {
   "cell_type": "markdown",
   "metadata": {},
   "source": [
    "**Задание 7.**\n",
    "Список data содержит информацию о численности населения некоторых штатов США. Напишите программу сортировки по убыванию списка data на основании последнего символа в названии штата. Затем распечатайте элементы этого списка, каждый на новой строке в формате:\n",
    "\n",
    "<название штата>: <численность населения>\n",
    "\n",
    "Vermont: 626299\n",
    "\n",
    "Massachusetts: 7029917\n",
    "\n",
    "...\n",
    "\n",
    "Примечание 1. Сортировка производится в лексикографическом порядке (по алфавиту) по убыванию на основании последнего символа в названии штата. При этом, если два штата имеют одинаковый последний символ, следует сохранить их взаиморасположение в начальном списке."
   ]
  },
  {
   "cell_type": "code",
   "execution_count": 75,
   "metadata": {},
   "outputs": [
    {
     "name": "stdout",
     "output_type": "stream",
     "text": [
      "Vermont: 626299\n",
      "Massachusetts: 7029917\n",
      "Ohio: 11799448\n",
      "Michigan: 10077331\n",
      "Washington: 7705281\n",
      "New York: 19542209\n",
      "Hawaii: 1420491\n",
      "Tennessee: 6910840\n",
      "Alabama: 4887871\n",
      "West Virginia: 1805832\n",
      "California: 39865590\n",
      "Georgia: 10711908\n",
      "Virginia: 10439388\n",
      "Arizona: 7151502\n"
     ]
    }
   ],
   "source": [
    "data = [(19542209, 'New York'), (4887871, 'Alabama'), (1420491, 'Hawaii'), (626299, 'Vermont'), (1805832, 'West Virginia'), (39865590, 'California'), (11799448, 'Ohio'), (10711908, 'Georgia'), (10077331, 'Michigan'), (10439388, 'Virginia'), (7705281, 'Washington'), (7151502, 'Arizona'), (7029917, 'Massachusetts'), (6910840, 'Tennessee')]\n",
    "state = sorted(data, key=lambda x: x[1][-1], reverse=True)\n",
    "\n",
    "for pop, st in state:\n",
    "    print(f'{st}: {pop}')"
   ]
  },
  {
   "cell_type": "markdown",
   "metadata": {},
   "source": [
    "**Задание 8.**\n",
    "Список data содержит слова на русском языке. Напишите программу, которая сортирует этот список по возрастанию длины слов. В случае, если длины каких-то слов совпадают, – отсортировать эти слова в лексикографическом порядке. Отсортированные слова следует вывести на одной строке, разделив символом пробела."
   ]
  },
  {
   "cell_type": "code",
   "execution_count": 86,
   "metadata": {},
   "outputs": [
    {
     "name": "stdout",
     "output_type": "stream",
     "text": [
      "вид год дом мир раз глаз дело день друг лицо рука сила время город жизнь конец место слово часть вопрос голова деньги работа случай страна женщина ребенок система сторона человек отношение\n"
     ]
    }
   ],
   "source": [
    "data = ['год', 'человек', 'время', 'дело', 'жизнь', 'день', 'рука', 'раз', 'работа', 'слово', 'место', 'лицо', 'друг', 'глаз', 'вопрос', 'дом', 'сторона', 'страна', 'мир', 'случай', 'голова', 'ребенок', 'сила', 'конец', 'вид', 'система', 'часть', 'город', 'отношение', 'женщина', 'деньги']\n",
    "print(*sorted(data, key=lambda x: (len(x), x)))"
   ]
  },
  {
   "cell_type": "markdown",
   "metadata": {},
   "source": [
    "**Задание 9.**\n",
    "Список mixed_list содержит целочисленные и строковые значения. Напишите программу, которая с помощью встроенной функции max() находит и выводит наибольшее числовое значение в указанном списке.\n",
    "\n",
    "Примечание 1. Для решения задачи используйте анонимную функцию и необязательный аргумент key  функции max().\n",
    "\n",
    "Примечание 2. Обратите внимание, что сравнивать числа и строки нельзя."
   ]
  },
  {
   "cell_type": "code",
   "execution_count": 148,
   "metadata": {},
   "outputs": [
    {
     "name": "stdout",
     "output_type": "stream",
     "text": [
      "2950603\n",
      "2950603\n"
     ]
    }
   ],
   "source": [
    "mixed_list = ['tuesday', 'abroad', 'abuse', 'beside', 'monday', 'abate', 'accessory', 'absorb', 1384878, 'sunday', 'about', 454805, 'saturday', 'abort', 2121919, 2552839, 977970, 1772933, 1564063, 'abduct', 901271, 2680434, 'bicycle', 'accelerate', 1109147, 942908, 'berry', 433507, 'bias', 'bestow', 1875665, 'besides', 'bewilder', 1586517, 375290, 1503450, 2713047, 'abnormal', 2286106, 242192, 701049, 2866491, 'benevolent', 'bigot', 'abuse', 'abrupt', 343772, 'able', 2135748, 690280, 686008, 'beyond', 2415643, 'aboard', 'bet', 859105, 'accident', 2223166, 894187, 146564, 1251748, 2851543, 1619426, 2263113, 1618068, 'berth', 'abolish', 'beware', 2618492, 1555062, 'access', 'absent', 'abundant', 2950603, 'betray', 'beverage', 'abide', 'abandon', 2284251, 'wednesday', 2709698, 'thursday', 810387, 'friday', 2576799, 2213552, 1599022, 'accept', 'abuse', 'abound', 1352953, 'bid', 1805326, 1499197, 2241159, 605320, 2347441]\n",
    "print(max(list(filter(lambda x: isinstance(x, int), mixed_list))))\n",
    "print(max(mixed_list, key=lambda x: (type(x) is int, x)))"
   ]
  },
  {
   "cell_type": "markdown",
   "metadata": {},
   "source": [
    "**Задание 10.**\n",
    "Список mixed_list содержит целочисленные и строковые значения. Напишите программу его сортировки по неубыванию значений элементов, при этом числа должны следовать до строк.  Элементы отсортированного списка выведите на одной строке, разделив символом пробела.\n",
    "\n",
    "Примечание 1. Для решения задачи используйте анонимную функцию и необязательный аргумент key  функции sorted()."
   ]
  },
  {
   "cell_type": "code",
   "execution_count": 154,
   "metadata": {},
   "outputs": [
    {
     "name": "stdout",
     "output_type": "stream",
     "text": [
      "0 1 3 5 8 a aab ab ac c\n",
      "10 11 12 12 13 13 13 14 15 19 20 20 26 26 26 28 35 36 37 38 40 40 41 41 46 46 47 48 50 51 60 64 65 65 66 67 70 75 76 76 76 78 80 87 89 94 95 95 98 99 abandon abate abduct abide able abnormal aboard abort abound about abrupt absent absorb abundant abuse accelerate accept access accessory accident benevolent berry berth beside besides bestow bet betray beware bewilder beyond bicycle bid bigot friday saturday sunday thursday tuesday wednesday\n"
     ]
    }
   ],
   "source": [
    "mixed_list = ['a', 'ab', 3, 5, 1, 8, 0, 'c', 'ac', 'aab']\n",
    "print(*sorted(mixed_list, key=lambda x: (type(x) is str, x)))\n",
    "\n",
    "mixed_list = ['beside', 48, 'accelerate', 28, 'beware', 'absorb', 'besides', 'berry', 15, 65, 'abate', 'thursday', 76, 70, 94, 35, 36, 'berth', 41, 'abnormal', 'bicycle', 'bid', 'sunday', 'saturday', 87, 'bigot', 41, 'abort', 13, 60, 'friday', 26, 13, 'accident', 'access', 40, 26, 20, 75, 13, 40, 67, 12, 'abuse', 78, 10, 80, 'accessory', 20, 'bewilder', 'benevolent', 'bet', 64, 38, 65, 51, 95, 'abduct', 37, 98, 99, 14, 'abandon', 'accept', 46, 'abide', 'beyond', 19, 'about', 76, 26, 'abound', 12, 95, 'wednesday', 'abundant', 'abrupt', 'aboard', 50, 89, 'tuesday', 66, 'bestow', 'absent', 76, 46, 'betray', 47, 'able', 11]\n",
    "print(*sorted(mixed_list, key=lambda x: (type(x) is str, x)))"
   ]
  },
  {
   "cell_type": "markdown",
   "metadata": {},
   "source": [
    "**Задание 11.**\n",
    "В цветовой схеме RGB цвета задаются с помощью трех компонентов:\n",
    "\n",
    "R — интенсивность красной составляющей цвета;\n",
    "G — интенсивность зеленой составляющей цвета;\n",
    "B — интенсивность синей составляющей цвета.\n",
    "Противоположные цвета задаются как RGB и (255-R)(255-G)(255-B). Считается, что такие цвета хорошо гармонируют друг с другом.\n",
    "\n",
    "Напишите программу, которая по трем компонентам заданного цвета, находит компоненты противоположного цвета. \n",
    "\n",
    "Примечание. Попробуйте решить задачу в одну строку с помощью встроенной функции map()"
   ]
  },
  {
   "cell_type": "code",
   "execution_count": 171,
   "metadata": {},
   "outputs": [
    {
     "name": "stdout",
     "output_type": "stream",
     "text": [
      "11 244 135\n"
     ]
    }
   ],
   "source": [
    "s = '244 11 120'\n",
    "print(*list(map(lambda x: 255 - int(x), s.split())))"
   ]
  },
  {
   "cell_type": "markdown",
   "metadata": {},
   "source": [
    "**Задание 12.**\n",
    "Многочленом степени n называется выражение вида \n",
    "$$ a_nx^n + a_{n-1}x^{n-1} + ... + a_2x^2 + a_1x + a_0 $$\n",
    "где $a_n, a_{n-1}, ..., a_2, a_1, a_0 $ — коэффициенты многочлена $(a_n \\neq 0)$.\n",
    "\n",
    "На вход программе на первой строке подаются коэффициенты многочлена, разделенные символом пробела и целое число $x$ на второй строке. Напишите программу, которая вычисляет значение указанного многочлена при заданном значении $x$.\n",
    "\n",
    "Примечание. Решение задачи необходимо оформить в виде функции evaluate(coefficients, x), которая принимает список коэффициентов и значение аргумента. Функция evaluate() должна быть реализована на основе встроенных функций map() и reduce()."
   ]
  },
  {
   "cell_type": "code",
   "execution_count": 188,
   "metadata": {},
   "outputs": [
    {
     "name": "stdout",
     "output_type": "stream",
     "text": [
      "243\n"
     ]
    }
   ],
   "source": [
    "from functools import reduce\n",
    "from operator import add\n",
    "coefficients = '2 4 3'.split()\n",
    "x = 10\n",
    "\n",
    "def evaluate(coefficients, x):\n",
    "    mn = list(map(lambda k, ind: int(k) * x ** ind, coefficients, list(range(len(coefficients)))[::-1]))\n",
    "    return reduce(add, mn, 0)\n",
    "\n",
    "print(evaluate(coefficients, x))"
   ]
  }
 ],
 "metadata": {
  "kernelspec": {
   "display_name": "Python 3",
   "language": "python",
   "name": "python3"
  },
  "language_info": {
   "codemirror_mode": {
    "name": "ipython",
    "version": 3
   },
   "file_extension": ".py",
   "mimetype": "text/x-python",
   "name": "python",
   "nbconvert_exporter": "python",
   "pygments_lexer": "ipython3",
   "version": "3.11.5"
  }
 },
 "nbformat": 4,
 "nbformat_minor": 2
}
